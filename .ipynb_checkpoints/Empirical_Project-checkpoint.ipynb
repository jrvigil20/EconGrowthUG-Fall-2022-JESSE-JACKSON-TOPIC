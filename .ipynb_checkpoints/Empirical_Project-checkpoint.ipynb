{
 "cells": [
  {
   "cell_type": "code",
   "execution_count": 11,
   "id": "79873b94-e155-46c5-a125-ee2c39bea06d",
   "metadata": {
    "slideshow": {
     "slide_type": "skip"
    }
   },
   "outputs": [],
   "source": [
    "from __future__ import division\n",
    "%matplotlib inline\n",
    "import os\n",
    "import matplotlib.pyplot as plt\n",
    "import numpy as np\n",
    "import pandas as pd"
   ]
  },
  {
   "cell_type": "code",
   "execution_count": 12,
   "id": "6c05310b",
   "metadata": {
    "slideshow": {
     "slide_type": "skip"
    }
   },
   "outputs": [],
   "source": [
    "import folium"
   ]
  },
  {
   "cell_type": "markdown",
   "id": "db080c49",
   "metadata": {
    "slideshow": {
     "slide_type": "slide"
    }
   },
   "source": [
    "# How a metal box shaped the modern world"
   ]
  },
  {
   "cell_type": "markdown",
   "id": "494e3624",
   "metadata": {
    "slideshow": {
     "slide_type": "skip"
    }
   },
   "source": [
    "The question we would like to ask, and address, in this paper stems from how a change in technology, or an advancement, affects world trade, and in turn, economic development. Technological innovation spurs output growth in economies, according to the Solow growth model, and in this paper we will be taking a look at one of the more profound technologies that helped drive this growth for nations around the globe. The advent of containers, and a one world standardized container unit, leading to the containerization of intermodal freight transport worldwide, is the main technology change this paper will focus on. With the world adopting containers, then standardizing a size, this led to a wide varity of changes in the way world trade was conducted. Some changes include; how cargo ships would be built, leading to new ship designs, how cargo gets handled at port, changes to the rail and semi-truck industry, changes in the amount of labor needed, changes to which ports held prominence, and new warehouse systems created.  Containers are something almost everyone has seen, but pay little attention to. Being able to shed some light on the impact of these metal boxes and show how important they are in our modern world is a motivating factor. Our projects aims to answer two questions; (i) the impact of the adoption of a standard container unit on freight rates, patterns of international trade, and trade volumes throughout the world in the second half of the 20th century and up to the first 15 years of the 21st century, (ii) the impact resulting from either adopting, or not, of this new technology, on economic development geographically. "
   ]
  },
  {
   "cell_type": "markdown",
   "id": "684f64b3",
   "metadata": {
    "slideshow": {
     "slide_type": "slide"
    }
   },
   "source": [
    "## History leading up to containerization\n",
    "* US experimentation in the 1940s\n",
    "* Sealand shipping company, Malcom Mclean, and the Ideal X\n",
    "* Freight tonnage cost in 1956\n",
    "* ISO standardization\n",
    "* Slow transition\n",
    "* Labor costs and the 1954 S.S Warrior study\n",
    "* As of 2018 over 70% of goods are transported in containers"
   ]
  },
  {
   "cell_type": "markdown",
   "id": "dd1c1c2f",
   "metadata": {
    "slideshow": {
     "slide_type": "skip"
    }
   },
   "source": [
    "First, a brief history overview of the container. The US Army transportation branch experimented with container shipping as far back as World War II. Through the late 1940s and early 1950s private commercialized shippers sought to adpot this technoloy. These companies improved upon the container and the supporting technology to use containers. However, nothing was standardized which limited the use outside of properly set up ports for each specific company. Due to the amount of investment capital required to implement this technoloy most companies balked at the idea of going all in on containers. In 1956 the shipping company Sealand, lead by Malcom Mclean, made the first real step into commercialized containerization with a plan to use containers instead of the older way of break bulk shipping. Sealand converted a World War II tanker, the Ideal X, to carry containers. The Ideal X set sail from New York to Texas. This reduced Sealands shipping cost, in 1956 purchasing power, from $5.83 per ton break bulk to $0.16 cents per ton between those two ports.The savings was from tonnage alone, this did not yet include proper port and intermodal savings, or cargo handling savings. Cost savings from just tonnage alone was a watershed moment for freight shipping. Sixteen years later the ISO began the standardization process for an international standarized shipping container, which eventually engulf the world. "
   ]
  },
  {
   "cell_type": "markdown",
   "id": "ce6372ee",
   "metadata": {
    "slideshow": {
     "slide_type": "skip"
    }
   },
   "source": [
    "Before looking at individual ports it is important to note that containerization, even for first world countries, took a long time to catch on and integrate into trade networks due to the need for a one world standard, and the high cost of both physical and financial capital. Putting into perspective how much containerization drove the price of shipping down outside of frieght cost also needs to be understood.  "
   ]
  },
  {
   "cell_type": "markdown",
   "id": "a9e97ed3",
   "metadata": {
    "slideshow": {
     "slide_type": "skip"
    }
   },
   "source": [
    "In 1954 the US Federal Government commissioned a study, named *\"The S.S. Warrior; an analysis of an export transportation system from shipper to consignee\"* to examine the transportation costs of goods from the US to Germany. The study found that half the total cost of shipping were from longshoreman costs of loading and unloading the vessel. This method also took longer, meaning more time in port and slower overall shipping times. "
   ]
  },
  {
   "cell_type": "markdown",
   "id": "b2d45bd3",
   "metadata": {
    "slideshow": {
     "slide_type": "slide"
    }
   },
   "source": [
    "The project will look at two countries, the USA and the UK, and within those two countries we will further look at two competing ports in terms of container tonnage. "
   ]
  },
  {
   "cell_type": "code",
   "execution_count": 13,
   "id": "2a65f547",
   "metadata": {
    "slideshow": {
     "slide_type": "skip"
    }
   },
   "outputs": [],
   "source": [
    "ports = 'City_Location.xlsx'\n",
    "\n",
    "coords = pd.read_excel(ports)"
   ]
  },
  {
   "cell_type": "code",
   "execution_count": 14,
   "id": "30b8ecc9",
   "metadata": {
    "scrolled": true,
    "slideshow": {
     "slide_type": "skip"
    }
   },
   "outputs": [
    {
     "data": {
      "text/html": [
       "<div style=\"width:100%;\"><div style=\"position:relative;width:100%;height:0;padding-bottom:60%;\"><span style=\"color:#565656\">Make this Notebook Trusted to load map: File -> Trust Notebook</span><iframe srcdoc=\"&lt;!DOCTYPE html&gt;\n",
       "&lt;head&gt;    \n",
       "    &lt;meta http-equiv=&quot;content-type&quot; content=&quot;text/html; charset=UTF-8&quot; /&gt;\n",
       "    \n",
       "        &lt;script&gt;\n",
       "            L_NO_TOUCH = false;\n",
       "            L_DISABLE_3D = false;\n",
       "        &lt;/script&gt;\n",
       "    \n",
       "    &lt;style&gt;html, body {width: 100%;height: 100%;margin: 0;padding: 0;}&lt;/style&gt;\n",
       "    &lt;style&gt;#map {position:absolute;top:0;bottom:0;right:0;left:0;}&lt;/style&gt;\n",
       "    &lt;script src=&quot;https://cdn.jsdelivr.net/npm/leaflet@1.6.0/dist/leaflet.js&quot;&gt;&lt;/script&gt;\n",
       "    &lt;script src=&quot;https://code.jquery.com/jquery-1.12.4.min.js&quot;&gt;&lt;/script&gt;\n",
       "    &lt;script src=&quot;https://maxcdn.bootstrapcdn.com/bootstrap/3.2.0/js/bootstrap.min.js&quot;&gt;&lt;/script&gt;\n",
       "    &lt;script src=&quot;https://cdnjs.cloudflare.com/ajax/libs/Leaflet.awesome-markers/2.0.2/leaflet.awesome-markers.js&quot;&gt;&lt;/script&gt;\n",
       "    &lt;link rel=&quot;stylesheet&quot; href=&quot;https://cdn.jsdelivr.net/npm/leaflet@1.6.0/dist/leaflet.css&quot;/&gt;\n",
       "    &lt;link rel=&quot;stylesheet&quot; href=&quot;https://maxcdn.bootstrapcdn.com/bootstrap/3.2.0/css/bootstrap.min.css&quot;/&gt;\n",
       "    &lt;link rel=&quot;stylesheet&quot; href=&quot;https://maxcdn.bootstrapcdn.com/bootstrap/3.2.0/css/bootstrap-theme.min.css&quot;/&gt;\n",
       "    &lt;link rel=&quot;stylesheet&quot; href=&quot;https://maxcdn.bootstrapcdn.com/font-awesome/4.6.3/css/font-awesome.min.css&quot;/&gt;\n",
       "    &lt;link rel=&quot;stylesheet&quot; href=&quot;https://cdnjs.cloudflare.com/ajax/libs/Leaflet.awesome-markers/2.0.2/leaflet.awesome-markers.css&quot;/&gt;\n",
       "    &lt;link rel=&quot;stylesheet&quot; href=&quot;https://cdn.jsdelivr.net/gh/python-visualization/folium/folium/templates/leaflet.awesome.rotate.min.css&quot;/&gt;\n",
       "    \n",
       "            &lt;meta name=&quot;viewport&quot; content=&quot;width=device-width,\n",
       "                initial-scale=1.0, maximum-scale=1.0, user-scalable=no&quot; /&gt;\n",
       "            &lt;style&gt;\n",
       "                #map_32db82df0ce42704fe11bc16f4a52a01 {\n",
       "                    position: relative;\n",
       "                    width: 100.0%;\n",
       "                    height: 100.0%;\n",
       "                    left: 0.0%;\n",
       "                    top: 0.0%;\n",
       "                }\n",
       "            &lt;/style&gt;\n",
       "        \n",
       "&lt;/head&gt;\n",
       "&lt;body&gt;    \n",
       "    \n",
       "            &lt;div class=&quot;folium-map&quot; id=&quot;map_32db82df0ce42704fe11bc16f4a52a01&quot; &gt;&lt;/div&gt;\n",
       "        \n",
       "&lt;/body&gt;\n",
       "&lt;script&gt;    \n",
       "    \n",
       "            var map_32db82df0ce42704fe11bc16f4a52a01 = L.map(\n",
       "                &quot;map_32db82df0ce42704fe11bc16f4a52a01&quot;,\n",
       "                {\n",
       "                    center: [0, 0],\n",
       "                    crs: L.CRS.EPSG3857,\n",
       "                    zoom: 1,\n",
       "                    zoomControl: true,\n",
       "                    preferCanvas: false,\n",
       "                    Location: [13.1339, 16.1039],\n",
       "                }\n",
       "            );\n",
       "\n",
       "            \n",
       "\n",
       "        \n",
       "    \n",
       "            var tile_layer_dacb36cca4346ac3b46fccccfe8a86c4 = L.tileLayer(\n",
       "                &quot;https://{s}.tile.openstreetmap.org/{z}/{x}/{y}.png&quot;,\n",
       "                {&quot;attribution&quot;: &quot;Data by \\u0026copy; \\u003ca href=\\&quot;http://openstreetmap.org\\&quot;\\u003eOpenStreetMap\\u003c/a\\u003e, under \\u003ca href=\\&quot;http://www.openstreetmap.org/copyright\\&quot;\\u003eODbL\\u003c/a\\u003e.&quot;, &quot;detectRetina&quot;: false, &quot;maxNativeZoom&quot;: 18, &quot;maxZoom&quot;: 18, &quot;minZoom&quot;: 0, &quot;noWrap&quot;: false, &quot;opacity&quot;: 1, &quot;subdomains&quot;: &quot;abc&quot;, &quot;tms&quot;: false}\n",
       "            ).addTo(map_32db82df0ce42704fe11bc16f4a52a01);\n",
       "        \n",
       "    \n",
       "            var marker_f395bc5aa117689debfdf287644405b8 = L.marker(\n",
       "                [51.5, 0.05],\n",
       "                {}\n",
       "            ).addTo(map_32db82df0ce42704fe11bc16f4a52a01);\n",
       "        \n",
       "    \n",
       "            marker_f395bc5aa117689debfdf287644405b8.bindTooltip(\n",
       "                `&lt;div&gt;\n",
       "                     Port of London\n",
       "                 &lt;/div&gt;`,\n",
       "                {&quot;sticky&quot;: true}\n",
       "            );\n",
       "        \n",
       "    \n",
       "            var marker_75bfe97fda06df2776c99cedaf79735a = L.marker(\n",
       "                [53.6283825924211, -0.193455346899709],\n",
       "                {}\n",
       "            ).addTo(map_32db82df0ce42704fe11bc16f4a52a01);\n",
       "        \n",
       "    \n",
       "            marker_75bfe97fda06df2776c99cedaf79735a.bindTooltip(\n",
       "                `&lt;div&gt;\n",
       "                     Port of Grimsby &amp; Immingham\n",
       "                 &lt;/div&gt;`,\n",
       "                {&quot;sticky&quot;: true}\n",
       "            );\n",
       "        \n",
       "    \n",
       "            var marker_2f59ac930be5e2c3f3a6ed778bb70782 = L.marker(\n",
       "                [33.7292, -118.262],\n",
       "                {}\n",
       "            ).addTo(map_32db82df0ce42704fe11bc16f4a52a01);\n",
       "        \n",
       "    \n",
       "            marker_2f59ac930be5e2c3f3a6ed778bb70782.bindTooltip(\n",
       "                `&lt;div&gt;\n",
       "                     Port of Los Angeles\n",
       "                 &lt;/div&gt;`,\n",
       "                {&quot;sticky&quot;: true}\n",
       "            );\n",
       "        \n",
       "    \n",
       "            var marker_1a308b906a5e3f049b9deee1935f8c48 = L.marker(\n",
       "                [37.7957, -122.2792],\n",
       "                {}\n",
       "            ).addTo(map_32db82df0ce42704fe11bc16f4a52a01);\n",
       "        \n",
       "    \n",
       "            marker_1a308b906a5e3f049b9deee1935f8c48.bindTooltip(\n",
       "                `&lt;div&gt;\n",
       "                     Port of Oakland\n",
       "                 &lt;/div&gt;`,\n",
       "                {&quot;sticky&quot;: true}\n",
       "            );\n",
       "        \n",
       "&lt;/script&gt;\" style=\"position:absolute;width:100%;height:100%;left:0;top:0;border:none !important;\" allowfullscreen webkitallowfullscreen mozallowfullscreen></iframe></div></div>"
      ],
      "text/plain": [
       "<folium.folium.Map at 0x1a1c4c4a820>"
      ]
     },
     "execution_count": 14,
     "metadata": {},
     "output_type": "execute_result"
    }
   ],
   "source": [
    "#london = coords.loc[0]\n",
    "my_map = folium.Map(\n",
    "    Location = [13.1339, 16.1039],\n",
    ")\n",
    "\n",
    "for _, port in coords.iterrows():\n",
    "    folium.Marker(\n",
    "        location=[port['Latitude'], port['Longitude']],\n",
    "        tooltip=port['Port']\n",
    "    ).add_to(my_map)\n",
    "\n",
    "my_map"
   ]
  },
  {
   "cell_type": "code",
   "execution_count": 15,
   "id": "ae6f002d",
   "metadata": {
    "slideshow": {
     "slide_type": "slide"
    }
   },
   "outputs": [
    {
     "data": {
      "text/html": [
       "<div>\n",
       "<style scoped>\n",
       "    .dataframe tbody tr th:only-of-type {\n",
       "        vertical-align: middle;\n",
       "    }\n",
       "\n",
       "    .dataframe tbody tr th {\n",
       "        vertical-align: top;\n",
       "    }\n",
       "\n",
       "    .dataframe thead th {\n",
       "        text-align: right;\n",
       "    }\n",
       "</style>\n",
       "<table border=\"1\" class=\"dataframe\">\n",
       "  <thead>\n",
       "    <tr style=\"text-align: right;\">\n",
       "      <th></th>\n",
       "      <th>Port</th>\n",
       "      <th>Latitude</th>\n",
       "      <th>Longitude</th>\n",
       "    </tr>\n",
       "  </thead>\n",
       "  <tbody>\n",
       "    <tr>\n",
       "      <th>0</th>\n",
       "      <td>Port of London</td>\n",
       "      <td>51.500000</td>\n",
       "      <td>0.050000</td>\n",
       "    </tr>\n",
       "    <tr>\n",
       "      <th>1</th>\n",
       "      <td>Port of Grimsby &amp; Immingham</td>\n",
       "      <td>53.628383</td>\n",
       "      <td>-0.193455</td>\n",
       "    </tr>\n",
       "    <tr>\n",
       "      <th>2</th>\n",
       "      <td>Port of Los Angeles</td>\n",
       "      <td>33.729200</td>\n",
       "      <td>-118.262000</td>\n",
       "    </tr>\n",
       "    <tr>\n",
       "      <th>3</th>\n",
       "      <td>Port of Oakland</td>\n",
       "      <td>37.795700</td>\n",
       "      <td>-122.279200</td>\n",
       "    </tr>\n",
       "  </tbody>\n",
       "</table>\n",
       "</div>"
      ],
      "text/plain": [
       "                          Port   Latitude   Longitude\n",
       "0               Port of London  51.500000    0.050000\n",
       "1  Port of Grimsby & Immingham  53.628383   -0.193455\n",
       "2          Port of Los Angeles  33.729200 -118.262000\n",
       "3              Port of Oakland  37.795700 -122.279200"
      ]
     },
     "execution_count": 15,
     "metadata": {},
     "output_type": "execute_result"
    }
   ],
   "source": [
    "coords.head(4)"
   ]
  },
  {
   "cell_type": "code",
   "execution_count": 16,
   "id": "9cbd91ea",
   "metadata": {
    "slideshow": {
     "slide_type": "subslide"
    }
   },
   "outputs": [
    {
     "data": {
      "text/html": [
       "<div style=\"width:100%;\"><div style=\"position:relative;width:100%;height:0;padding-bottom:60%;\"><span style=\"color:#565656\">Make this Notebook Trusted to load map: File -> Trust Notebook</span><iframe srcdoc=\"&lt;!DOCTYPE html&gt;\n",
       "&lt;head&gt;    \n",
       "    &lt;meta http-equiv=&quot;content-type&quot; content=&quot;text/html; charset=UTF-8&quot; /&gt;\n",
       "    \n",
       "        &lt;script&gt;\n",
       "            L_NO_TOUCH = false;\n",
       "            L_DISABLE_3D = false;\n",
       "        &lt;/script&gt;\n",
       "    \n",
       "    &lt;style&gt;html, body {width: 100%;height: 100%;margin: 0;padding: 0;}&lt;/style&gt;\n",
       "    &lt;style&gt;#map {position:absolute;top:0;bottom:0;right:0;left:0;}&lt;/style&gt;\n",
       "    &lt;script src=&quot;https://cdn.jsdelivr.net/npm/leaflet@1.6.0/dist/leaflet.js&quot;&gt;&lt;/script&gt;\n",
       "    &lt;script src=&quot;https://code.jquery.com/jquery-1.12.4.min.js&quot;&gt;&lt;/script&gt;\n",
       "    &lt;script src=&quot;https://maxcdn.bootstrapcdn.com/bootstrap/3.2.0/js/bootstrap.min.js&quot;&gt;&lt;/script&gt;\n",
       "    &lt;script src=&quot;https://cdnjs.cloudflare.com/ajax/libs/Leaflet.awesome-markers/2.0.2/leaflet.awesome-markers.js&quot;&gt;&lt;/script&gt;\n",
       "    &lt;link rel=&quot;stylesheet&quot; href=&quot;https://cdn.jsdelivr.net/npm/leaflet@1.6.0/dist/leaflet.css&quot;/&gt;\n",
       "    &lt;link rel=&quot;stylesheet&quot; href=&quot;https://maxcdn.bootstrapcdn.com/bootstrap/3.2.0/css/bootstrap.min.css&quot;/&gt;\n",
       "    &lt;link rel=&quot;stylesheet&quot; href=&quot;https://maxcdn.bootstrapcdn.com/bootstrap/3.2.0/css/bootstrap-theme.min.css&quot;/&gt;\n",
       "    &lt;link rel=&quot;stylesheet&quot; href=&quot;https://maxcdn.bootstrapcdn.com/font-awesome/4.6.3/css/font-awesome.min.css&quot;/&gt;\n",
       "    &lt;link rel=&quot;stylesheet&quot; href=&quot;https://cdnjs.cloudflare.com/ajax/libs/Leaflet.awesome-markers/2.0.2/leaflet.awesome-markers.css&quot;/&gt;\n",
       "    &lt;link rel=&quot;stylesheet&quot; href=&quot;https://cdn.jsdelivr.net/gh/python-visualization/folium/folium/templates/leaflet.awesome.rotate.min.css&quot;/&gt;\n",
       "    \n",
       "            &lt;meta name=&quot;viewport&quot; content=&quot;width=device-width,\n",
       "                initial-scale=1.0, maximum-scale=1.0, user-scalable=no&quot; /&gt;\n",
       "            &lt;style&gt;\n",
       "                #map_32db82df0ce42704fe11bc16f4a52a01 {\n",
       "                    position: relative;\n",
       "                    width: 100.0%;\n",
       "                    height: 100.0%;\n",
       "                    left: 0.0%;\n",
       "                    top: 0.0%;\n",
       "                }\n",
       "            &lt;/style&gt;\n",
       "        \n",
       "&lt;/head&gt;\n",
       "&lt;body&gt;    \n",
       "    \n",
       "            &lt;div class=&quot;folium-map&quot; id=&quot;map_32db82df0ce42704fe11bc16f4a52a01&quot; &gt;&lt;/div&gt;\n",
       "        \n",
       "&lt;/body&gt;\n",
       "&lt;script&gt;    \n",
       "    \n",
       "            var map_32db82df0ce42704fe11bc16f4a52a01 = L.map(\n",
       "                &quot;map_32db82df0ce42704fe11bc16f4a52a01&quot;,\n",
       "                {\n",
       "                    center: [0, 0],\n",
       "                    crs: L.CRS.EPSG3857,\n",
       "                    zoom: 1,\n",
       "                    zoomControl: true,\n",
       "                    preferCanvas: false,\n",
       "                    Location: [13.1339, 16.1039],\n",
       "                }\n",
       "            );\n",
       "\n",
       "            \n",
       "\n",
       "        \n",
       "    \n",
       "            var tile_layer_dacb36cca4346ac3b46fccccfe8a86c4 = L.tileLayer(\n",
       "                &quot;https://{s}.tile.openstreetmap.org/{z}/{x}/{y}.png&quot;,\n",
       "                {&quot;attribution&quot;: &quot;Data by \\u0026copy; \\u003ca href=\\&quot;http://openstreetmap.org\\&quot;\\u003eOpenStreetMap\\u003c/a\\u003e, under \\u003ca href=\\&quot;http://www.openstreetmap.org/copyright\\&quot;\\u003eODbL\\u003c/a\\u003e.&quot;, &quot;detectRetina&quot;: false, &quot;maxNativeZoom&quot;: 18, &quot;maxZoom&quot;: 18, &quot;minZoom&quot;: 0, &quot;noWrap&quot;: false, &quot;opacity&quot;: 1, &quot;subdomains&quot;: &quot;abc&quot;, &quot;tms&quot;: false}\n",
       "            ).addTo(map_32db82df0ce42704fe11bc16f4a52a01);\n",
       "        \n",
       "    \n",
       "            var marker_f395bc5aa117689debfdf287644405b8 = L.marker(\n",
       "                [51.5, 0.05],\n",
       "                {}\n",
       "            ).addTo(map_32db82df0ce42704fe11bc16f4a52a01);\n",
       "        \n",
       "    \n",
       "            marker_f395bc5aa117689debfdf287644405b8.bindTooltip(\n",
       "                `&lt;div&gt;\n",
       "                     Port of London\n",
       "                 &lt;/div&gt;`,\n",
       "                {&quot;sticky&quot;: true}\n",
       "            );\n",
       "        \n",
       "    \n",
       "            var marker_75bfe97fda06df2776c99cedaf79735a = L.marker(\n",
       "                [53.6283825924211, -0.193455346899709],\n",
       "                {}\n",
       "            ).addTo(map_32db82df0ce42704fe11bc16f4a52a01);\n",
       "        \n",
       "    \n",
       "            marker_75bfe97fda06df2776c99cedaf79735a.bindTooltip(\n",
       "                `&lt;div&gt;\n",
       "                     Port of Grimsby &amp; Immingham\n",
       "                 &lt;/div&gt;`,\n",
       "                {&quot;sticky&quot;: true}\n",
       "            );\n",
       "        \n",
       "    \n",
       "            var marker_2f59ac930be5e2c3f3a6ed778bb70782 = L.marker(\n",
       "                [33.7292, -118.262],\n",
       "                {}\n",
       "            ).addTo(map_32db82df0ce42704fe11bc16f4a52a01);\n",
       "        \n",
       "    \n",
       "            marker_2f59ac930be5e2c3f3a6ed778bb70782.bindTooltip(\n",
       "                `&lt;div&gt;\n",
       "                     Port of Los Angeles\n",
       "                 &lt;/div&gt;`,\n",
       "                {&quot;sticky&quot;: true}\n",
       "            );\n",
       "        \n",
       "    \n",
       "            var marker_1a308b906a5e3f049b9deee1935f8c48 = L.marker(\n",
       "                [37.7957, -122.2792],\n",
       "                {}\n",
       "            ).addTo(map_32db82df0ce42704fe11bc16f4a52a01);\n",
       "        \n",
       "    \n",
       "            marker_1a308b906a5e3f049b9deee1935f8c48.bindTooltip(\n",
       "                `&lt;div&gt;\n",
       "                     Port of Oakland\n",
       "                 &lt;/div&gt;`,\n",
       "                {&quot;sticky&quot;: true}\n",
       "            );\n",
       "        \n",
       "&lt;/script&gt;\" style=\"position:absolute;width:100%;height:100%;left:0;top:0;border:none !important;\" allowfullscreen webkitallowfullscreen mozallowfullscreen></iframe></div></div>"
      ],
      "text/plain": [
       "<folium.folium.Map at 0x1a1c4c4a820>"
      ]
     },
     "execution_count": 16,
     "metadata": {},
     "output_type": "execute_result"
    }
   ],
   "source": [
    "my_map"
   ]
  },
  {
   "cell_type": "code",
   "execution_count": 17,
   "id": "a73a3ed1",
   "metadata": {
    "slideshow": {
     "slide_type": "skip"
    }
   },
   "outputs": [],
   "source": [
    "my_map.save('port_location_map.html')"
   ]
  },
  {
   "cell_type": "code",
   "execution_count": null,
   "id": "793d039e",
   "metadata": {
    "slideshow": {
     "slide_type": "skip"
    }
   },
   "outputs": [],
   "source": [
    "#https://www.camdenshipyardmuseum.org/ship-sinkings-other-issues-reserve"
   ]
  },
  {
   "cell_type": "code",
   "execution_count": 18,
   "id": "ad8690ce",
   "metadata": {
    "slideshow": {
     "slide_type": "skip"
    }
   },
   "outputs": [],
   "source": [
    "#https://assets.publishing.service.gov.uk/government/uploads/system/uploads/attachment_data/file/1093925/port0101.ods\n",
    "#page 2\n",
    "\n",
    "UK_excel = 'England_data.xlsx'"
   ]
  },
  {
   "cell_type": "code",
   "execution_count": 19,
   "id": "8393ea63",
   "metadata": {
    "slideshow": {
     "slide_type": "skip"
    }
   },
   "outputs": [],
   "source": [
    "uk = pd.read_excel(UK_excel, sheet_name = 'data_use')"
   ]
  },
  {
   "cell_type": "markdown",
   "id": "e8c29991",
   "metadata": {
    "slideshow": {
     "slide_type": "slide"
    }
   },
   "source": [
    "In this first example you will see the impact of containerization on the two ports in England. The first is the Port of London, which is an old established main port. The other is the Port of Grimsby and Immingham, which was an up and coming port at the beginning of our data range. "
   ]
  },
  {
   "cell_type": "markdown",
   "id": "d3aaa52c",
   "metadata": {
    "slideshow": {
     "slide_type": "slide"
    }
   },
   "source": [
    "## Brief History of the Port of London\n",
    "* Port of London Authority created in 1908\n",
    "* Port of London size at 720 acres\n",
    "* Port of London Changes through the early 20th century till 1965 "
   ]
  },
  {
   "cell_type": "markdown",
   "id": "e5bed658",
   "metadata": {
    "slideshow": {
     "slide_type": "slide"
    }
   },
   "source": [
    "## Brief History of the Grimsby and Immingham\n",
    "* Port opened in 1912, commissioned by King George V\n",
    "* Built on 1,230 acres\n",
    "* Close proximity to other intermodal transportation methods\n",
    "* Better suited for modern day shipping"
   ]
  },
  {
   "cell_type": "markdown",
   "id": "62e2733b",
   "metadata": {
    "slideshow": {
     "slide_type": "skip"
    }
   },
   "source": [
    "While shipping was the largest industry in London for centuries, the Port of London was offically created and put under the newly created Port of London Authority (PLA) in December of 1908 in the Port of London Act, 1908. The Port of London encompassed 720 acres. The creation of the PLA brought order to the chaotic water way and was essential to maintaining and improving the Port infastructure and the Ports postion of importance against European rivals. Following the formation of the PLA financial capital poured in. This modernized the docks, deepend the river and brought overall success to the port. The trade of tonnage peaked in 1964. During the years preceding 1964 rapid changes in cargo handling technology, the container, and increasing ship sizes saw the decline in importance of the PLA. Eventually trade moved to more accommodating ports. Today the Port itself handles just over 50 million tons of carge a year. "
   ]
  },
  {
   "cell_type": "markdown",
   "id": "f6f8ff81",
   "metadata": {
    "slideshow": {
     "slide_type": "skip"
    }
   },
   "source": [
    "The Port of Grimsby and Immingham was opened in July of 1912 by King George V on 1,230 acres. The port was orignally meant for the export of coal and was later heavily involved in bulk and fossil fuel import facilities. Eventually, due to the space, the port opened, what is now called, the Immingham Container Terminal. With a fresh start on a large enough space the Port of Grimsby and Immingham did not have to worry about labor contracts or older methods of unloading break bulk cargo as much as the Port of London did. This allowed the Port of Grimsby and Immingham to rapidly expand into the new cargo technology. "
   ]
  },
  {
   "cell_type": "code",
   "execution_count": 20,
   "id": "73e76105",
   "metadata": {
    "slideshow": {
     "slide_type": "subslide"
    }
   },
   "outputs": [
    {
     "data": {
      "text/html": [
       "<div>\n",
       "<style scoped>\n",
       "    .dataframe tbody tr th:only-of-type {\n",
       "        vertical-align: middle;\n",
       "    }\n",
       "\n",
       "    .dataframe tbody tr th {\n",
       "        vertical-align: top;\n",
       "    }\n",
       "\n",
       "    .dataframe thead th {\n",
       "        text-align: right;\n",
       "    }\n",
       "</style>\n",
       "<table border=\"1\" class=\"dataframe\">\n",
       "  <thead>\n",
       "    <tr style=\"text-align: right;\">\n",
       "      <th></th>\n",
       "      <th>Year</th>\n",
       "      <th>Grimsby_and_Immingham_tonnage</th>\n",
       "      <th>London_tonnage</th>\n",
       "    </tr>\n",
       "  </thead>\n",
       "  <tbody>\n",
       "    <tr>\n",
       "      <th>0</th>\n",
       "      <td>1965</td>\n",
       "      <td>8347.000</td>\n",
       "      <td>64611.000</td>\n",
       "    </tr>\n",
       "    <tr>\n",
       "      <th>1</th>\n",
       "      <td>1970</td>\n",
       "      <td>23659.000</td>\n",
       "      <td>63817.000</td>\n",
       "    </tr>\n",
       "    <tr>\n",
       "      <th>2</th>\n",
       "      <td>1975</td>\n",
       "      <td>22010.000</td>\n",
       "      <td>50298.000</td>\n",
       "    </tr>\n",
       "    <tr>\n",
       "      <th>3</th>\n",
       "      <td>1980</td>\n",
       "      <td>22153.000</td>\n",
       "      <td>54200.000</td>\n",
       "    </tr>\n",
       "    <tr>\n",
       "      <th>4</th>\n",
       "      <td>1985</td>\n",
       "      <td>29121.623</td>\n",
       "      <td>51595.952</td>\n",
       "    </tr>\n",
       "    <tr>\n",
       "      <th>5</th>\n",
       "      <td>1990</td>\n",
       "      <td>39356.623</td>\n",
       "      <td>58147.662</td>\n",
       "    </tr>\n",
       "    <tr>\n",
       "      <th>6</th>\n",
       "      <td>1995</td>\n",
       "      <td>46789.310</td>\n",
       "      <td>51362.114</td>\n",
       "    </tr>\n",
       "    <tr>\n",
       "      <th>7</th>\n",
       "      <td>2000</td>\n",
       "      <td>52500.648</td>\n",
       "      <td>47891.966</td>\n",
       "    </tr>\n",
       "    <tr>\n",
       "      <th>8</th>\n",
       "      <td>2005</td>\n",
       "      <td>60686.389</td>\n",
       "      <td>53842.547</td>\n",
       "    </tr>\n",
       "  </tbody>\n",
       "</table>\n",
       "</div>"
      ],
      "text/plain": [
       "   Year  Grimsby_and_Immingham_tonnage  London_tonnage\n",
       "0  1965                       8347.000       64611.000\n",
       "1  1970                      23659.000       63817.000\n",
       "2  1975                      22010.000       50298.000\n",
       "3  1980                      22153.000       54200.000\n",
       "4  1985                      29121.623       51595.952\n",
       "5  1990                      39356.623       58147.662\n",
       "6  1995                      46789.310       51362.114\n",
       "7  2000                      52500.648       47891.966\n",
       "8  2005                      60686.389       53842.547"
      ]
     },
     "execution_count": 20,
     "metadata": {},
     "output_type": "execute_result"
    }
   ],
   "source": [
    "uk"
   ]
  },
  {
   "cell_type": "code",
   "execution_count": 21,
   "id": "cfd8646b",
   "metadata": {
    "slideshow": {
     "slide_type": "skip"
    }
   },
   "outputs": [
    {
     "data": {
      "text/plain": [
       "Index(['Year', 'Grimsby_and_Immingham_tonnage', 'London_tonnage'], dtype='object')"
      ]
     },
     "execution_count": 21,
     "metadata": {},
     "output_type": "execute_result"
    }
   ],
   "source": [
    "uk.columns"
   ]
  },
  {
   "cell_type": "code",
   "execution_count": 28,
   "id": "c95c3061",
   "metadata": {
    "scrolled": true,
    "slideshow": {
     "slide_type": "subslide"
    }
   },
   "outputs": [
    {
     "data": {
      "text/plain": [
       "<matplotlib.legend.Legend at 0x1a1c4ee3160>"
      ]
     },
     "execution_count": 28,
     "metadata": {},
     "output_type": "execute_result"
    },
    {
     "data": {
      "image/png": "[encoded data removed]",
      "text/plain": [
       "<Figure size 640x480 with 1 Axes>"
      ]
     },
     "metadata": {},
     "output_type": "display_data"
    }
   ],
   "source": [
    "plt.title(\"Freight Tonnage overtime in two UK Ports\")\n",
    "plt.plot(uk.Year, uk.Grimsby_and_Immingham_tonnage, label= \"Port of Grimsby and Immingham\")\n",
    "plt.plot(uk.Year, uk.London_tonnage, label= \"Port of London\")\n",
    "plt.legend()"
   ]
  },
  {
   "cell_type": "markdown",
   "id": "45bf6569",
   "metadata": {
    "slideshow": {
     "slide_type": "subslide"
    }
   },
   "source": [
    "From both the data table and the graph it is clear the Port of London suffered, while the Port of Grimsby and Immingham thrived."
   ]
  },
  {
   "cell_type": "markdown",
   "id": "ea2b0944",
   "metadata": {
    "slideshow": {
     "slide_type": "slide"
    }
   },
   "source": [
    "## Port of London\n",
    "* Issues containerizing\n",
    "* Impact of London falling behind\n",
    "* What became of London after 1960"
   ]
  },
  {
   "cell_type": "markdown",
   "id": "b2fb073a",
   "metadata": {
    "slideshow": {
     "slide_type": "skip"
    }
   },
   "source": [
    "\n",
    "The Port of London had a harder time containerizing due to many common issues that plagued old ports during the transition to containerization. Some issues include; not enough space on the piers, contracts with labor unions preventing new physical capital required to handle containers, older docks unable to accommodate nessecarry intermodal transportation out of the port, and not able to support newer specialized container ships as they grew in size to name a few. Due to these issues rival ports that could adjust faster saw larger growth. One such port is the Port of Grimsby and Immingham. As the graph demonstrates overtime this had major economic geographic impacts, such as a traditional port like London losing importance while other Ports becoming more prominent. This had a varying effect for both cities the ports are in. Both saw a loss in old school dock labor, like longshoremen, but one port, and city, was much more negatively impacted with the inability to modernize with physical capital and being stuck in union contracts with dock labor. While the Port of London did pick back up tonnage, it was set back by 35 years and is not the premier port of the UK anymore. "
   ]
  },
  {
   "cell_type": "markdown",
   "id": "58e6888b",
   "metadata": {
    "slideshow": {
     "slide_type": "skip"
    }
   },
   "source": [
    "With Shipping at the heart of the London economy for centuries the shipping industry became a focal point for the regional economy. Since London was one of the largest and busiest ports, up to World War II, the manufacturing industry was also large due to the close proximity of such a major port. Both these industries grew to rely on each other and eventually made up the bulk of the regional economy. This is seen by half of the jobs in the London suburbs being manufacturing as late as 1961. However, with the Port of London starting to fall behind, and geographical shifts in manufacturing due to new trade technologies allowing for cheaper transportation, this lead to close to 800 thousand jobs lost in manufacturing alone in the 1960s and 1970s. Eventually, London grew out of their Port and manufacturing industries and transitioned into a \"postindustrial' city. At the end of the 20th century about one-tenth of the London's workforce was in manufacturing. Starting in the 1990s London's most important earnings function shifted to the international banking market. This remains one of Londons largest industries till this day. "
   ]
  },
  {
   "cell_type": "markdown",
   "id": "173bdd21",
   "metadata": {
    "slideshow": {
     "slide_type": "slide"
    }
   },
   "source": [
    "## Port of Grimsby and Immingham\n",
    "* Creation of the modern intermodal port\n",
    "* How the small town turned into a prominent city\n",
    "* Largest Port by tonnage in the UK\n",
    "* Jobs directly or indirectly related to intermodal transportation and trade"
   ]
  },
  {
   "cell_type": "markdown",
   "id": "50f7ea54",
   "metadata": {
    "slideshow": {
     "slide_type": "skip"
    }
   },
   "source": [
    "Once a small shire, the town of Grimsby and Immingham was tiny in population compared to London through the early 1900s. With the development of the Port of Grimsby and Immingham in 1906 and industrial development after World War II the town grew into an important intermodal hub in the UK. Intermodal transportation made up a large portion of the jobs due to the railroads, but with the introduction of the port many people moved into the area for jobs provided by the port directly or indirectly. Since the founding of the first dock in 1912 employment has been dominated by the port business. Post 1960 further developmment of industry and the Ports 1,230 acrage saw the tonnage increase. Again this grew the town and the dominate trade industry in the region. As of 2019 the Port of Grimsby and Immingham handled the most tonnage, not just containers, out of all the ports on the UK. "
   ]
  },
  {
   "cell_type": "code",
   "execution_count": 21,
   "id": "af886552",
   "metadata": {
    "slideshow": {
     "slide_type": "skip"
    }
   },
   "outputs": [],
   "source": [
    "#https://www.aapa-ports.org/unifying/content.aspx?ItemNumber=21048\n",
    "#\"Western Hemisphere Port TEU Container Volumes 1980-2013\"\n",
    "\n",
    "USWEST_excel = 'USWESTDATA.xlsx'"
   ]
  },
  {
   "cell_type": "code",
   "execution_count": 16,
   "id": "2ef1a9ea",
   "metadata": {
    "slideshow": {
     "slide_type": "skip"
    }
   },
   "outputs": [],
   "source": [
    "USWEST = pd.read_excel(USWEST_excel, sheet_name = 'my_data')"
   ]
  },
  {
   "cell_type": "markdown",
   "id": "d1c8bbc6",
   "metadata": {
    "slideshow": {
     "slide_type": "slide"
    }
   },
   "source": [
    "In the next example we will look at the Port of Los Angeles. It was historically a large port, but was a bit slower to modernize due to aforemntioned issues above. This lead to a rival dock, the Port of Oakland, overtaking this large port in container tonnage. But as you will see this large dock was able to eventually modernize with decent pace to catch and surpass its competetion much faster than in the London case."
   ]
  },
  {
   "cell_type": "markdown",
   "id": "f5dd49ab",
   "metadata": {
    "slideshow": {
     "slide_type": "slide"
    }
   },
   "source": [
    "## Brief History of the Port of Los Angeles\n",
    "* Modern San Pedro Bay becoming the offical Port of LA in 1909\n",
    "* Played large part in World War 2 war efforts\n",
    "* The Port and shipyards employed more than 90,000 workers during this time\n",
    "* Container age saw the Port of LA experiment with containers, but only within certain private companies\n",
    "* Port of LA unions role in containerization in the late 1960s"
   ]
  },
  {
   "cell_type": "markdown",
   "id": "c7853021",
   "metadata": {
    "slideshow": {
     "slide_type": "slide"
    }
   },
   "source": [
    "## Brief History of the Port of Oakland\n",
    "* Port has been around for more than 165 years\n",
    "* 1893 the Oakland took control of the port from Southern Pacific railroad\n",
    "* In Late 1960s the port was the first major west coast port to build terminals for container ships\n",
    "* Today one of the 10 busiest container ports in the U.S"
   ]
  },
  {
   "cell_type": "code",
   "execution_count": 20,
   "id": "b4466118",
   "metadata": {
    "slideshow": {
     "slide_type": "subslide"
    }
   },
   "outputs": [
    {
     "data": {
      "text/html": [
       "<div>\n",
       "<style scoped>\n",
       "    .dataframe tbody tr th:only-of-type {\n",
       "        vertical-align: middle;\n",
       "    }\n",
       "\n",
       "    .dataframe tbody tr th {\n",
       "        vertical-align: top;\n",
       "    }\n",
       "\n",
       "    .dataframe thead th {\n",
       "        text-align: right;\n",
       "    }\n",
       "</style>\n",
       "<table border=\"1\" class=\"dataframe\">\n",
       "  <thead>\n",
       "    <tr style=\"text-align: right;\">\n",
       "      <th></th>\n",
       "      <th>Year</th>\n",
       "      <th>Los_Angeles</th>\n",
       "      <th>Oakland</th>\n",
       "    </tr>\n",
       "  </thead>\n",
       "  <tbody>\n",
       "    <tr>\n",
       "      <th>0</th>\n",
       "      <td>1980</td>\n",
       "      <td>632784.0</td>\n",
       "      <td>782175</td>\n",
       "    </tr>\n",
       "    <tr>\n",
       "      <th>1</th>\n",
       "      <td>1981</td>\n",
       "      <td>476249.0</td>\n",
       "      <td>775300</td>\n",
       "    </tr>\n",
       "    <tr>\n",
       "      <th>2</th>\n",
       "      <td>1982</td>\n",
       "      <td>606189.0</td>\n",
       "      <td>820218</td>\n",
       "    </tr>\n",
       "    <tr>\n",
       "      <th>3</th>\n",
       "      <td>1983</td>\n",
       "      <td>733979.0</td>\n",
       "      <td>804551</td>\n",
       "    </tr>\n",
       "    <tr>\n",
       "      <th>4</th>\n",
       "      <td>1984</td>\n",
       "      <td>908417.0</td>\n",
       "      <td>915871</td>\n",
       "    </tr>\n",
       "    <tr>\n",
       "      <th>5</th>\n",
       "      <td>1985</td>\n",
       "      <td>1103722.0</td>\n",
       "      <td>855642</td>\n",
       "    </tr>\n",
       "    <tr>\n",
       "      <th>6</th>\n",
       "      <td>1986</td>\n",
       "      <td>1329649.0</td>\n",
       "      <td>925089</td>\n",
       "    </tr>\n",
       "    <tr>\n",
       "      <th>7</th>\n",
       "      <td>1987</td>\n",
       "      <td>1579629.0</td>\n",
       "      <td>953861</td>\n",
       "    </tr>\n",
       "    <tr>\n",
       "      <th>8</th>\n",
       "      <td>1988</td>\n",
       "      <td>1652066.0</td>\n",
       "      <td>1031776</td>\n",
       "    </tr>\n",
       "    <tr>\n",
       "      <th>9</th>\n",
       "      <td>1989</td>\n",
       "      <td>2056626.0</td>\n",
       "      <td>1090597</td>\n",
       "    </tr>\n",
       "    <tr>\n",
       "      <th>10</th>\n",
       "      <td>1990</td>\n",
       "      <td>2116410.0</td>\n",
       "      <td>1124123</td>\n",
       "    </tr>\n",
       "    <tr>\n",
       "      <th>11</th>\n",
       "      <td>1991</td>\n",
       "      <td>2039165.0</td>\n",
       "      <td>1194718</td>\n",
       "    </tr>\n",
       "    <tr>\n",
       "      <th>12</th>\n",
       "      <td>1992</td>\n",
       "      <td>2289271.0</td>\n",
       "      <td>1291494</td>\n",
       "    </tr>\n",
       "    <tr>\n",
       "      <th>13</th>\n",
       "      <td>1993</td>\n",
       "      <td>2318920.0</td>\n",
       "      <td>1305134</td>\n",
       "    </tr>\n",
       "    <tr>\n",
       "      <th>14</th>\n",
       "      <td>1994</td>\n",
       "      <td>2518619.0</td>\n",
       "      <td>1491002</td>\n",
       "    </tr>\n",
       "    <tr>\n",
       "      <th>15</th>\n",
       "      <td>1995</td>\n",
       "      <td>2555206.0</td>\n",
       "      <td>1549886</td>\n",
       "    </tr>\n",
       "    <tr>\n",
       "      <th>16</th>\n",
       "      <td>1996</td>\n",
       "      <td>2683026.0</td>\n",
       "      <td>1498202</td>\n",
       "    </tr>\n",
       "    <tr>\n",
       "      <th>17</th>\n",
       "      <td>1997</td>\n",
       "      <td>2959714.0</td>\n",
       "      <td>1531188</td>\n",
       "    </tr>\n",
       "    <tr>\n",
       "      <th>18</th>\n",
       "      <td>1998</td>\n",
       "      <td>3378219.0</td>\n",
       "      <td>1575406</td>\n",
       "    </tr>\n",
       "    <tr>\n",
       "      <th>19</th>\n",
       "      <td>1999</td>\n",
       "      <td>3828851.0</td>\n",
       "      <td>1663756</td>\n",
       "    </tr>\n",
       "    <tr>\n",
       "      <th>20</th>\n",
       "      <td>2000</td>\n",
       "      <td>4879429.0</td>\n",
       "      <td>1776922</td>\n",
       "    </tr>\n",
       "    <tr>\n",
       "      <th>21</th>\n",
       "      <td>2001</td>\n",
       "      <td>5183520.0</td>\n",
       "      <td>1643577</td>\n",
       "    </tr>\n",
       "    <tr>\n",
       "      <th>22</th>\n",
       "      <td>2002</td>\n",
       "      <td>6105863.0</td>\n",
       "      <td>1707827</td>\n",
       "    </tr>\n",
       "    <tr>\n",
       "      <th>23</th>\n",
       "      <td>2003</td>\n",
       "      <td>7178940.0</td>\n",
       "      <td>1923136</td>\n",
       "    </tr>\n",
       "    <tr>\n",
       "      <th>24</th>\n",
       "      <td>2004</td>\n",
       "      <td>7321440.0</td>\n",
       "      <td>2043122</td>\n",
       "    </tr>\n",
       "    <tr>\n",
       "      <th>25</th>\n",
       "      <td>2005</td>\n",
       "      <td>7484624.0</td>\n",
       "      <td>2272525</td>\n",
       "    </tr>\n",
       "    <tr>\n",
       "      <th>26</th>\n",
       "      <td>2006</td>\n",
       "      <td>8469853.0</td>\n",
       "      <td>2390262</td>\n",
       "    </tr>\n",
       "    <tr>\n",
       "      <th>27</th>\n",
       "      <td>2007</td>\n",
       "      <td>8355038.5</td>\n",
       "      <td>2388182</td>\n",
       "    </tr>\n",
       "    <tr>\n",
       "      <th>28</th>\n",
       "      <td>2008</td>\n",
       "      <td>7849985.0</td>\n",
       "      <td>2236244</td>\n",
       "    </tr>\n",
       "    <tr>\n",
       "      <th>29</th>\n",
       "      <td>2009</td>\n",
       "      <td>6748995.0</td>\n",
       "      <td>2050030</td>\n",
       "    </tr>\n",
       "    <tr>\n",
       "      <th>30</th>\n",
       "      <td>2010</td>\n",
       "      <td>7831902.0</td>\n",
       "      <td>2330214</td>\n",
       "    </tr>\n",
       "  </tbody>\n",
       "</table>\n",
       "</div>"
      ],
      "text/plain": [
       "    Year  Los_Angeles  Oakland\n",
       "0   1980     632784.0   782175\n",
       "1   1981     476249.0   775300\n",
       "2   1982     606189.0   820218\n",
       "3   1983     733979.0   804551\n",
       "4   1984     908417.0   915871\n",
       "5   1985    1103722.0   855642\n",
       "6   1986    1329649.0   925089\n",
       "7   1987    1579629.0   953861\n",
       "8   1988    1652066.0  1031776\n",
       "9   1989    2056626.0  1090597\n",
       "10  1990    2116410.0  1124123\n",
       "11  1991    2039165.0  1194718\n",
       "12  1992    2289271.0  1291494\n",
       "13  1993    2318920.0  1305134\n",
       "14  1994    2518619.0  1491002\n",
       "15  1995    2555206.0  1549886\n",
       "16  1996    2683026.0  1498202\n",
       "17  1997    2959714.0  1531188\n",
       "18  1998    3378219.0  1575406\n",
       "19  1999    3828851.0  1663756\n",
       "20  2000    4879429.0  1776922\n",
       "21  2001    5183520.0  1643577\n",
       "22  2002    6105863.0  1707827\n",
       "23  2003    7178940.0  1923136\n",
       "24  2004    7321440.0  2043122\n",
       "25  2005    7484624.0  2272525\n",
       "26  2006    8469853.0  2390262\n",
       "27  2007    8355038.5  2388182\n",
       "28  2008    7849985.0  2236244\n",
       "29  2009    6748995.0  2050030\n",
       "30  2010    7831902.0  2330214"
      ]
     },
     "execution_count": 20,
     "metadata": {},
     "output_type": "execute_result"
    }
   ],
   "source": [
    "USWEST"
   ]
  },
  {
   "cell_type": "code",
   "execution_count": 18,
   "id": "c2aedbc6",
   "metadata": {
    "slideshow": {
     "slide_type": "skip"
    }
   },
   "outputs": [
    {
     "data": {
      "text/plain": [
       "Index(['Year', 'Los_Angeles', 'Oakland'], dtype='object')"
      ]
     },
     "execution_count": 18,
     "metadata": {},
     "output_type": "execute_result"
    }
   ],
   "source": [
    "USWEST.columns"
   ]
  },
  {
   "cell_type": "code",
   "execution_count": 19,
   "id": "6d69fa26",
   "metadata": {
    "slideshow": {
     "slide_type": "subslide"
    }
   },
   "outputs": [
    {
     "data": {
      "text/plain": [
       "<matplotlib.legend.Legend at 0x24aa0658670>"
      ]
     },
     "execution_count": 19,
     "metadata": {},
     "output_type": "execute_result"
    },
    {
     "data": {
      "image/png": "[encoded data removed]",
      "text/plain": [
       "<Figure size 640x480 with 1 Axes>"
      ]
     },
     "metadata": {},
     "output_type": "display_data"
    }
   ],
   "source": [
    "plt.title(\"Freight Tonnage overtime in two US West Ports\")\n",
    "plt.plot(USWEST.Year, USWEST.Los_Angeles, label= \"Port of LA\")\n",
    "plt.plot(USWEST.Year, USWEST.Oakland, label= \"Port of Oakland\")\n",
    "plt.legend()"
   ]
  },
  {
   "cell_type": "markdown",
   "id": "1742ae81",
   "metadata": {
    "slideshow": {
     "slide_type": "subslide"
    }
   },
   "source": [
    "While the data starts from 1980, modern containerization in the US happened as eary as 1956. During the 24 year transition Oakland took over and held their dominance in freight tonnage, but once LA used standardized modernization the Port of LA caught up in the 1980s they took off from Oakland. Now the Port of LA is the largest port in the USA. "
   ]
  },
  {
   "cell_type": "markdown",
   "id": "cceb200a",
   "metadata": {
    "slideshow": {
     "slide_type": "slide"
    }
   },
   "source": [
    "## The Port of Los Angeles\n",
    "* Growth from the 1980s to the 90s\n",
    "* New terminals\n",
    "* New physical capital\n",
    "* challenges due to speed and scale of expansion"
   ]
  },
  {
   "cell_type": "markdown",
   "id": "169b7850",
   "metadata": {
    "slideshow": {
     "slide_type": "skip"
    }
   },
   "source": [
    "The Port of Los Angeles expansionist projects in the early nineties led to the creation of one of, if not the most efficient and advanced container ship ports in the world. The $65-million West Seventh Street Terminal highlighted some of the first phase implementations such as; two 900-foot long ship berths, three high speed cranes, and a highly automated ten-lane gate complex. The addition of updated maintenance and repair facilities were responsible for the greatest increase in efficiency. The implementation of automated equipment in these maintenance facilities greatly reduced the amount of time the ships were in port. Therefore, increasing their productivity as they remained in transit more often leading to an overall more productive shipping system. There were some major challenges faced however due to the scale and speed that the expansion occurred at. The project enlisted a total of 15 construction contracts, averaging 12 contractors on site at a time. The ability to fluidly organize and execute each contractor's given task in a timing fashion proved to be an enormous task."
   ]
  },
  {
   "cell_type": "markdown",
   "id": "1bdcf2d9",
   "metadata": {
    "slideshow": {
     "slide_type": "slide"
    }
   },
   "source": [
    "## The Port of Oakland\n",
    "* Largest change between 1950-1970\n",
    "* Hurdles with Longshoremen's Unions\n",
    "* Long term affects of not enough space "
   ]
  },
  {
   "cell_type": "markdown",
   "id": "9c32e6a8",
   "metadata": {
    "slideshow": {
     "slide_type": "skip"
    }
   },
   "source": [
    "The containerization of the Port of Oakland can best be described as an experimental task. The port period of time when the port underwent its greatest changes was from 1950 to 1970. It was during this time that the implementation of the technology gave rise to new successes as well as challenges that later improved the eventual advancement of many US based ports. The experiential aspect of the project came from pairing the implementation of untested technology with the consolidation that occurs as a result of economies-of-scale. Oakland simply did not have the size to compete long term with the other, larger ports located on the western coast. The success of the project was dictated by five key factors being: mechanization, private enterprise activities, government regulatory mechanisms, the military, changes in international trade, and public works projects. There were a number of regulatory hurdles created by the legislative body governing Oakland, as well as agreements with the Longshoremen’s Unions. Subsequently, once these regulations were agreed upon, it was up to Sea-Land Services to select Oakland as its Northern California intercoastal terminal. After the selection was made and large container ships began to operate out of the port, a major issue was exposed. This critical issue was the ability to freely move cargo in and out of the port as a result of the ports limited size and inability to compete in expansion."
   ]
  },
  {
   "cell_type": "markdown",
   "id": "eb6e6f57",
   "metadata": {
    "slideshow": {
     "slide_type": "skip"
    }
   },
   "source": [
    "Demonstrated and shown above, it is clear to see how technology affects and changes trade routes, rates of shipping, and tonnage volume. Explained is also how economies, populations and prosperity in geographical regions are affected as well.  "
   ]
  },
  {
   "cell_type": "markdown",
   "id": "834dd5c3",
   "metadata": {
    "slideshow": {
     "slide_type": "slide"
    }
   },
   "source": [
    "# Conclusion"
   ]
  },
  {
   "cell_type": "markdown",
   "id": "80e2a359",
   "metadata": {
    "slideshow": {
     "slide_type": "slide"
    }
   },
   "source": [
    "References:\n",
    "Britannica, E. (Ed.). (2020). Finance of London. Encyclopædia Britannica. Retrieved November 13, 2022, from https://www.britannica.com/place/London/Finance \n",
    "\n",
    "Conference, M. C. T. (1954). S.S Warrior 1954 Federal Government Study. In The S. S. Warrior; an analysis of an export transportation system from shipper to consignee (pp. 1–53). essay. \n",
    "\n",
    "Ham, H. van, &amp; Rijsenbrij, J. (2012). Chapter 5: Covering The Globe. In Development of containerization success through vision, Drive and Technology (pp. 53–57). essay, IOS Press. \n",
    "\n",
    "Levinson, M. (2006). Container Shipping and the decline of New York, 1955–1975. Business History Review, 80(1), 49–80. https://doi.org/10.1017/s0007680500080983 "
   ]
  },
  {
   "cell_type": "markdown",
   "id": "eb0336a5",
   "metadata": {
    "slideshow": {
     "slide_type": "slide"
    }
   },
   "source": [
    "Refrences: \n",
    "Museum, C. S. (2019). Break bulk vs Container. Camden Ship Museum. Retrieved November 26, 2022, from https://www.camdenshipyardmuseum.org/ship-sinkings-other-issues-reserve \n",
    "\n",
    "National Statistics, O. for (Ed.). (2011). Immingham Parish Summary. Nomis offical census and labor market statistics. Retrieved November 17, 2022, from https://www.nomisweb.co.uk/reports/localarea?compare=E04000526 \n",
    "Ports, A. A. P. A. (2022). Port Industry Statistics. Retrieved November 13, 2022, from https://www.aapa-ports.org/unifying/content.aspx?ItemNumber=21048 "
   ]
  },
  {
   "cell_type": "markdown",
   "id": "46fe1c7a",
   "metadata": {
    "slideshow": {
     "slide_type": "slide"
    }
   },
   "source": [
    "References:\n",
    "Ports, A. B. (2022). Celebrating 110 years of the Port of Immingham. Associated British Ports. Retrieved November 18, 2022, from https://www.abports.co.uk/news-and-media/latest-news/2022/celebrating-110-years-of-the-port-of-immingham/ \n",
    "\n",
    "Transport, D. for. (2020, August 12). UK Port Freight Statistics: 2019. https://assets.publishing.service.gov.uk. Retrieved November 13, 2022, from https://assets.publishing.service.gov.uk/government/uploads/system/uploads/attachment_data/file/908558/port-freight-statistics-2019.pdf \n",
    "\n",
    "Transportation, D. for. (2018). Port and domestic waterborne freight statistics: Data tables (port). www.gov.uk/government/statistical-data-sets. Retrieved November 17, 2022, from https://www.gov.uk/government/statistical-data-sets/port-and-domestic-waterborne-freight-statistics-port#port-and-domestic-waterborne-freight-table-index \n"
   ]
  },
  {
   "cell_type": "markdown",
   "id": "1d2f63d0",
   "metadata": {
    "slideshow": {
     "slide_type": "slide"
    }
   },
   "source": [
    "Refrences:\n",
    "www.pla.co.uk, P. of L.-. (2020). A brief history of the PLA. POLA2012. Retrieved November 25, 2022, from http://www.pla.co.uk/A-Brief-History-of-the-PLA \n",
    "\n",
    "Rosenstein, M. (2000, September 11). The rise of maritime containerization in the Port of Oakland.         Google Books. Retrieved November 28, 2022, from https://books.google.com/books?hl=en&         lr=&id=GZsj 0rxL7igC&oi=fnd&pg=PA1&dq=issues% 2Bsurrounding%2Bcontainerization%          %2  BOakland %2Bport&ots=P9bnR_R2ys&sig=tEJd8Wpw _5qO2ZvbrVfxbh4mBhU#v=         onepage&q&f =false "
   ]
  }
 ],
 "metadata": {
  "celltoolbar": "Slideshow",
  "kernelspec": {
   "display_name": "Python 3 (ipykernel)",
   "language": "python",
   "name": "python3"
  },
  "language_info": {
   "codemirror_mode": {
    "name": "ipython",
    "version": 3
   },
   "file_extension": ".py",
   "mimetype": "text/x-python",
   "name": "python",
   "nbconvert_exporter": "python",
   "pygments_lexer": "ipython3",
   "version": "3.9.13"
  }
 },
 "nbformat": 4,
 "nbformat_minor": 5
}
